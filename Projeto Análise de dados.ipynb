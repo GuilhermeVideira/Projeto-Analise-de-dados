{
 "cells": [
  {
   "cell_type": "code",
   "execution_count": null,
   "id": "22255bb7",
   "metadata": {},
   "outputs": [],
   "source": [
    "# Importar a base de dados\n",
    "import pandas as pd\n",
    "\n",
    "tabela = pd.read_csv(\"clientes.csv\", encoding=\"latin\", sep=\";\")\n",
    "\n",
    "# Deletar as colunas sem valores\n",
    "\n",
    "# axis = 0 -> Linha\n",
    "# axis = 1 --> Coluna\n",
    "tabela = tabela.drop(\"Unnamed: 8\", axis=1)\n",
    "\n",
    "# Visualizar a base de dados\n",
    "\n",
    "    # Entender as informações que você tem disponível\n",
    "    # Procurar os erros na base de dados\n",
    "display(tabela)"
   ]
  },
  {
   "cell_type": "code",
   "execution_count": null,
   "id": "59f419c3",
   "metadata": {},
   "outputs": [],
   "source": [
    "# Tratamento de Dados\n",
    "\n",
    "# Corrigir informações que estão sendo reconhecidas de forma errada\n",
    "tabela[\"Salário Anual (R$)\"] = pd.to_numeric(tabela[\"Salário Anual (R$)\"], errors=\"coerce\")\n",
    "\n",
    "# Corrigir informações vazias\n",
    "tabela = tabela.dropna()\n",
    "print(tabela.info())"
   ]
  },
  {
   "cell_type": "code",
   "execution_count": null,
   "id": "ee91f01b",
   "metadata": {},
   "outputs": [],
   "source": [
    "# Análise Inicial -> Entender as notas dos clientes\n",
    "display(tabela.describe())"
   ]
  },
  {
   "cell_type": "code",
   "execution_count": null,
   "id": "da30b2fc",
   "metadata": {},
   "outputs": [],
   "source": [
    "import plotly.express as px\n",
    "\n",
    "# Criar o grafico\n",
    "\n",
    "# Análise Completa -> Entender como cada característica do cliente impacta na nota\n",
    "for coluna in tabela.columns:\n",
    "    grafico = px.histogram(tabela, x=coluna, y=\"Nota (1-100)\", histfunc=\"avg\", text_auto=True, nbins=10)\n",
    "    \n",
    "    # Exibição do gráfico final \n",
    "    grafico.show()"
   ]
  }
 ],
 "metadata": {
  "kernelspec": {
   "display_name": "Python 3 (ipykernel)",
   "language": "python",
   "name": "python3"
  },
  "language_info": {
   "codemirror_mode": {
    "name": "ipython",
    "version": 3
   },
   "file_extension": ".py",
   "mimetype": "text/x-python",
   "name": "python",
   "nbconvert_exporter": "python",
   "pygments_lexer": "ipython3",
   "version": "3.11.3"
  }
 },
 "nbformat": 4,
 "nbformat_minor": 5
}
